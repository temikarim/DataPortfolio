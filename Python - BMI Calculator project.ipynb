{
 "cells": [
  {
   "cell_type": "markdown",
   "id": "eb43cff8",
   "metadata": {},
   "source": [
    "# BMI Calculator"
   ]
  },
  {
   "cell_type": "markdown",
   "id": "48829946",
   "metadata": {},
   "source": [
    "Hi! Here's a BMI calculator where you can input your own values. Press Shift and Enter (or the run all button at the top) and answer the questions that come up in the prompt. After that, you'll see your personalised BMI result at the bottom of the page\n",
    "\n",
    "Make sure to NOT include the 'kg' and 'cm' when putting in your details!"
   ]
  },
  {
   "cell_type": "code",
   "execution_count": 3,
   "id": "d4260b22",
   "metadata": {},
   "outputs": [
    {
     "name": "stdout",
     "output_type": "stream",
     "text": [
      "[name], you are morbidly because your BMI is 10000\n"
     ]
    }
   ],
   "source": [
    "name = input(\"What's your name? \")\n",
    "weight = float(input(\"What's your weight in kilograms? \"))\n",
    "height = float(input(\"What's you're height in centimeters? \"))/100\n",
    "\n",
    "bmi_float = weight/height**2\n",
    "bmi_int = int(bmi_float)\n",
    "BMI = str(bmi_int)\n",
    "\n",
    "if bmi_int < 16:\n",
    "    print (name + \", you are severely underweight because your BMI is \" + BMI)\n",
    "elif bmi_int <=18.4: \n",
    "    print (name + \", you are underweight because your BMI is \" + BMI)\n",
    "elif bmi_int <=24.9:\n",
    "    print(name + \", you are normal weight because your BMI is \" + BMI)\n",
    "elif bmi_int<=29.9:\n",
    "    print(name + \", you are overweight because your BMI is \" + BMI)\n",
    "elif bmi_int <=34.9:\n",
    "    print(name + \", you are moderately obese because your BMI is \" + BMI)\n",
    "elif bmi_int <=39.9:\n",
    "    print(name + \", you are severely obese because your BMI is \" + BMI)\n",
    "elif bmi_int >40:\n",
    "    print(name + \", you are morbidly because your BMI is \" + BMI)\n",
    "else:\n",
    "     print(\"error in values\")"
   ]
  },
  {
   "cell_type": "code",
   "execution_count": null,
   "id": "468b0e0d",
   "metadata": {},
   "outputs": [],
   "source": []
  }
 ],
 "metadata": {
  "kernelspec": {
   "display_name": "Python 3 (ipykernel)",
   "language": "python",
   "name": "python3"
  },
  "language_info": {
   "codemirror_mode": {
    "name": "ipython",
    "version": 3
   },
   "file_extension": ".py",
   "mimetype": "text/x-python",
   "name": "python",
   "nbconvert_exporter": "python",
   "pygments_lexer": "ipython3",
   "version": "3.11.0"
  }
 },
 "nbformat": 4,
 "nbformat_minor": 5
}
