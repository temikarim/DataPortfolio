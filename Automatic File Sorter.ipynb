{
 "cells": [
  {
   "cell_type": "markdown",
   "metadata": {},
   "source": [
    "# Automatic File Sorter in File Explorer"
   ]
  },
  {
   "cell_type": "markdown",
   "metadata": {},
   "source": [
    "This project's goal is to segregate different files into new folders depending on their file type e.g. jpeg, pdf, excel or word\n",
    "\n",
    "If you'd like to try this out on your own, please follow these steps:\n",
    "\n",
    "1 - Download the folder from this Google Drive and add it to your desktop (not the downloads folder!). Make sure it's titled 'Python Project File Sorter': https://drive.google.com/drive/folders/1_rtmUcTS5MysmXXcFsi5F63Eyu0x7Jgc?usp=drive_link\n",
    "\n",
    "2 - Copy the 'path' of the file and add it inbetween the quotation marks of the second line of code below. Yours would look something like this: path = r\"XXXX\"\n",
    "\n",
    "        For Mac, copy the path by right clicking the folder, holding down Option, and then selecting 'Copy as Pathname'\n",
    "\n",
    "        For Windows, copy the path by selecting the folder and then clicking Control, Shift and C\n",
    "\n",
    "TIP: For Windows users, you may need to replace the backslash in the path ( \\ ) with a forward slash ( / )\n",
    "\n",
    "3 - Open up the folder\n",
    "\n",
    "4 - Run the code with the \"Run All\" button or by pressing Shift and Enter. Watch the magic happen!\n"
   ]
  },
  {
   "cell_type": "code",
   "execution_count": 5,
   "metadata": {},
   "outputs": [],
   "source": [
    "import os, shutil\n",
    "\n",
    "path = r\"/Users/temikarim/Desktop/Python Project File Sorter/\"\n",
    "\n",
    "file_names = os.listdir(path)\n",
    "\n",
    "folder_names = ['word files', 'excel files', 'pdf files', 'jpeg files']\n",
    "\n",
    "for loop in range(0,4):\n",
    "    if not os.path.exists(path + folder_names[loop]):\n",
    "        os.makedirs(path + folder_names[loop])\n",
    "\n",
    "for file in file_names: \n",
    "    if \".docx\" in file and not os.path.exists(path + \"word files/\" + file):\n",
    "        shutil.move(path + file, path + \"word files/\" + file)\n",
    "    elif \".xlsx\" in file and not os.path.exists(path + \"excel files/\" + file):\n",
    "        shutil.move(path + file, path + \"excel files/\" + file)\n",
    "    if \".pdf\" in file and not os.path.exists(path + \"pdf files/\" + file):\n",
    "        shutil.move(path + file, path + \"pdf files/\" + file)\n",
    "    if \".jpeg\" in file and not os.path.exists(path + \"jpeg files/\" + file):\n",
    "        shutil.move(path + file, path + \"jpeg files/\" + file)"
   ]
  }
 ],
 "metadata": {
  "kernelspec": {
   "display_name": "Python 3",
   "language": "python",
   "name": "python3"
  },
  "language_info": {
   "codemirror_mode": {
    "name": "ipython",
    "version": 3
   },
   "file_extension": ".py",
   "mimetype": "text/x-python",
   "name": "python",
   "nbconvert_exporter": "python",
   "pygments_lexer": "ipython3",
   "version": "3.11.0"
  }
 },
 "nbformat": 4,
 "nbformat_minor": 2
}
